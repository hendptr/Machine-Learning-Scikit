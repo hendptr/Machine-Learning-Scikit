{
 "cells": [
  {
   "cell_type": "code",
   "execution_count": 2,
   "metadata": {},
   "outputs": [],
   "source": [
    "import pandas as pd\n",
    "import numpy as np\n",
    "import matplotlib.pyplot as plt"
   ]
  },
  {
   "cell_type": "code",
   "execution_count": 9,
   "metadata": {},
   "outputs": [
    {
     "name": "stdout",
     "output_type": "stream",
     "text": [
      "    Tahun_bekerja      Gaji\n",
      "0             1.1   39343.0\n",
      "1             1.3   46205.0\n",
      "2             1.5   37731.0\n",
      "3             2.0   43525.0\n",
      "4             2.2   39891.0\n",
      "5             2.9   56642.0\n",
      "6             3.0   60150.0\n",
      "7             3.2   54445.0\n",
      "8             3.2   64445.0\n",
      "9             3.7   57189.0\n",
      "10            3.9   63218.0\n",
      "11            4.0   55794.0\n",
      "12            4.0   56957.0\n",
      "13            4.1   57081.0\n",
      "14            4.5   61111.0\n",
      "15            4.9   67938.0\n",
      "16            5.1   66029.0\n",
      "17            5.3   83088.0\n",
      "18            5.9   81363.0\n",
      "19            6.0   93940.0\n",
      "20            6.8   91738.0\n",
      "21            7.1   98273.0\n",
      "22            7.9  101302.0\n",
      "23            8.2  113812.0\n",
      "24            8.7  109431.0\n",
      "25            9.0  105582.0\n",
      "26            9.5  116969.0\n",
      "27            9.6  112635.0\n",
      "28           10.3  122391.0\n",
      "29           10.5  121872.0\n",
      "(30, 2)\n",
      "<class 'pandas.core.frame.DataFrame'>\n",
      "RangeIndex: 30 entries, 0 to 29\n",
      "Data columns (total 2 columns):\n",
      " #   Column         Non-Null Count  Dtype  \n",
      "---  ------         --------------  -----  \n",
      " 0   Tahun_bekerja  30 non-null     float64\n",
      " 1   Gaji           30 non-null     float64\n",
      "dtypes: float64(2)\n",
      "memory usage: 608.0 bytes\n",
      "None\n",
      "       Tahun_bekerja           Gaji\n",
      "count      30.000000      30.000000\n",
      "mean        5.313333   76003.000000\n",
      "std         2.837888   27414.429785\n",
      "min         1.100000   37731.000000\n",
      "25%         3.200000   56720.750000\n",
      "50%         4.700000   65237.000000\n",
      "75%         7.700000  100544.750000\n",
      "max        10.500000  122391.000000\n",
      "Tahun_bekerja    0\n",
      "Gaji             0\n",
      "dtype: int64\n"
     ]
    }
   ],
   "source": [
    "df = pd.read_csv('Daftar_gaji.csv')\n",
    "#Cek Data\n",
    "print(df)\n",
    "#Cek Data Row x Column\n",
    "print(df.shape)\n",
    "#Cek Data Tipe\n",
    "print(df.info())\n",
    "#Cek Data Statistics\n",
    "print(df.describe())\n",
    "#Cek Data jik ada NULL\n",
    "print(df.isnull().sum())"
   ]
  },
  {
   "cell_type": "code",
   "execution_count": 31,
   "metadata": {},
   "outputs": [
    {
     "data": {
      "text/plain": [
       "<matplotlib.collections.PathCollection at 0x1ae70a386c8>"
      ]
     },
     "execution_count": 31,
     "metadata": {},
     "output_type": "execute_result"
    },
    {
     "data": {
      "image/png": "[encoded data removed]",
      "text/plain": [
       "<Figure size 432x288 with 1 Axes>"
      ]
     },
     "metadata": {
      "needs_background": "dark"
     },
     "output_type": "display_data"
    }
   ],
   "source": [
    "X = df.iloc[:, :-1].values\n",
    "y = df.iloc[:, 1].values\n",
    "#Plot Data dengan scatter\n",
    "plt.scatter(X, y)"
   ]
  },
  {
   "cell_type": "code",
   "execution_count": 33,
   "metadata": {},
   "outputs": [],
   "source": [
    "#Membagi Data Menjadi Training dan Test\n",
    "from sklearn.model_selection import train_test_split\n",
    "X_train, X_test, y_train, y_test = train_test_split(X, y, test_size=0.4, random_state=0)"
   ]
  },
  {
   "cell_type": "code",
   "execution_count": 50,
   "metadata": {},
   "outputs": [
    {
     "name": "stdout",
     "output_type": "stream",
     "text": [
      "0.9560107363950422\n",
      "[9407.35651165]\n",
      "26838.995893956977\n"
     ]
    }
   ],
   "source": [
    "#Linear Regresi\n",
    "from sklearn.linear_model import LinearRegression\n",
    "linreg = LinearRegression().fit(X_train, y_train)\n",
    "print(linreg.score(X, y))\n",
    "print(linreg.coef_)\n",
    "print(linreg.intercept_)"
   ]
  },
  {
   "cell_type": "code",
   "execution_count": 37,
   "metadata": {
    "scrolled": true
   },
   "outputs": [],
   "source": [
    "# Prediksi\n",
    "y_pred = linreg.predict(X_test)"
   ]
  },
  {
   "cell_type": "code",
   "execution_count": 45,
   "metadata": {},
   "outputs": [
    {
     "name": "stdout",
     "output_type": "stream",
     "text": [
      "36440326.43092129\n"
     ]
    }
   ],
   "source": [
    "#Mean Square Error Training Set\n",
    "from sklearn.metrics import mean_squared_error\n",
    "print(mean_squared_error(y_train, linreg.predict(X_train)))"
   ]
  },
  {
   "cell_type": "code",
   "execution_count": 40,
   "metadata": {},
   "outputs": [
    {
     "data": {
      "text/html": [
       "<div>\n",
       "<style scoped>\n",
       "    .dataframe tbody tr th:only-of-type {\n",
       "        vertical-align: middle;\n",
       "    }\n",
       "\n",
       "    .dataframe tbody tr th {\n",
       "        vertical-align: top;\n",
       "    }\n",
       "\n",
       "    .dataframe thead th {\n",
       "        text-align: right;\n",
       "    }\n",
       "</style>\n",
       "<table border=\"1\" class=\"dataframe\">\n",
       "  <thead>\n",
       "    <tr style=\"text-align: right;\">\n",
       "      <th></th>\n",
       "      <th>y_pred</th>\n",
       "      <th>y_test</th>\n",
       "    </tr>\n",
       "  </thead>\n",
       "  <tbody>\n",
       "    <tr>\n",
       "      <th>0</th>\n",
       "      <td>40950.030661</td>\n",
       "      <td>37731.0</td>\n",
       "    </tr>\n",
       "    <tr>\n",
       "      <th>1</th>\n",
       "      <td>123734.767964</td>\n",
       "      <td>122391.0</td>\n",
       "    </tr>\n",
       "    <tr>\n",
       "      <th>2</th>\n",
       "      <td>65409.157592</td>\n",
       "      <td>57081.0</td>\n",
       "    </tr>\n",
       "    <tr>\n",
       "      <th>3</th>\n",
       "      <td>63527.686289</td>\n",
       "      <td>63218.0</td>\n",
       "    </tr>\n",
       "    <tr>\n",
       "      <th>4</th>\n",
       "      <td>116208.882755</td>\n",
       "      <td>116969.0</td>\n",
       "    </tr>\n",
       "    <tr>\n",
       "      <th>5</th>\n",
       "      <td>108682.997545</td>\n",
       "      <td>109431.0</td>\n",
       "    </tr>\n",
       "    <tr>\n",
       "      <th>6</th>\n",
       "      <td>117149.618406</td>\n",
       "      <td>112635.0</td>\n",
       "    </tr>\n",
       "    <tr>\n",
       "      <th>7</th>\n",
       "      <td>64468.421941</td>\n",
       "      <td>55794.0</td>\n",
       "    </tr>\n",
       "    <tr>\n",
       "      <th>8</th>\n",
       "      <td>76697.985406</td>\n",
       "      <td>83088.0</td>\n",
       "    </tr>\n",
       "    <tr>\n",
       "      <th>9</th>\n",
       "      <td>101157.112336</td>\n",
       "      <td>101302.0</td>\n",
       "    </tr>\n",
       "    <tr>\n",
       "      <th>10</th>\n",
       "      <td>54120.329778</td>\n",
       "      <td>56642.0</td>\n",
       "    </tr>\n",
       "    <tr>\n",
       "      <th>11</th>\n",
       "      <td>74816.514103</td>\n",
       "      <td>66029.0</td>\n",
       "    </tr>\n",
       "  </tbody>\n",
       "</table>\n",
       "</div>"
      ],
      "text/plain": [
       "           y_pred    y_test\n",
       "0    40950.030661   37731.0\n",
       "1   123734.767964  122391.0\n",
       "2    65409.157592   57081.0\n",
       "3    63527.686289   63218.0\n",
       "4   116208.882755  116969.0\n",
       "5   108682.997545  109431.0\n",
       "6   117149.618406  112635.0\n",
       "7    64468.421941   55794.0\n",
       "8    76697.985406   83088.0\n",
       "9   101157.112336  101302.0\n",
       "10   54120.329778   56642.0\n",
       "11   74816.514103   66029.0"
      ]
     },
     "execution_count": 40,
     "metadata": {},
     "output_type": "execute_result"
    }
   ],
   "source": [
    "#Komparasi Hasil Prediksi dengan y_test\n",
    "komparasi = pd.DataFrame({'y_pred':y_pred, 'y_test':y_test})\n",
    "komparasi"
   ]
  },
  {
   "cell_type": "code",
   "execution_count": 42,
   "metadata": {},
   "outputs": [
    {
     "data": {
      "image/png": "[encoded data removed]",
      "text/plain": [
       "<Figure size 432x288 with 1 Axes>"
      ]
     },
     "metadata": {
      "needs_background": "dark"
     },
     "output_type": "display_data"
    }
   ],
   "source": [
    "#Visualisasi Hasil Training Set\n",
    "plt.scatter(X_train, y_train, color='red')\n",
    "plt.plot(X_train, linreg.predict(X_train))\n",
    "plt.title(\"Gaji dan Pengalaman (Training Set)\")\n",
    "plt.xlabel('Tahun Bekerja')\n",
    "plt.ylabel('Gaji')\n",
    "plt.show()"
   ]
  },
  {
   "cell_type": "code",
   "execution_count": 43,
   "metadata": {},
   "outputs": [
    {
     "data": {
      "image/png": "[encoded data removed]",
      "text/plain": [
       "<Figure size 432x288 with 1 Axes>"
      ]
     },
     "metadata": {
      "needs_background": "dark"
     },
     "output_type": "display_data"
    }
   ],
   "source": [
    "#Visualisasi Hasil Test Set\n",
    "plt.scatter(X_test, y_test, color='red')\n",
    "plt.plot(X_test, linreg.predict(X_test))\n",
    "plt.title(\"Gaji dan Pengalaman (Test Set)\")\n",
    "plt.xlabel('Tahun Bekerja')\n",
    "plt.ylabel('Gaji')\n",
    "plt.show()"
   ]
  },
  {
   "cell_type": "code",
   "execution_count": 44,
   "metadata": {},
   "outputs": [
    {
     "name": "stdout",
     "output_type": "stream",
     "text": [
      "25234929.18660527\n"
     ]
    }
   ],
   "source": [
    "#Mean Square Error Test Set\n",
    "from sklearn.metrics import mean_squared_error\n",
    "print(mean_squared_error(y_test, y_pred))"
   ]
  },
  {
   "cell_type": "code",
   "execution_count": null,
   "metadata": {},
   "outputs": [],
   "source": []
  }
 ],
 "metadata": {
  "kernelspec": {
   "display_name": "Python 3",
   "language": "python",
   "name": "python3"
  },
  "language_info": {
   "codemirror_mode": {
    "name": "ipython",
    "version": 3
   },
   "file_extension": ".py",
   "mimetype": "text/x-python",
   "name": "python",
   "nbconvert_exporter": "python",
   "pygments_lexer": "ipython3",
   "version": "3.7.7"
  }
 },
 "nbformat": 4,
 "nbformat_minor": 4
}
